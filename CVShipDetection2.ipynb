{
  "nbformat": 4,
  "nbformat_minor": 0,
  "metadata": {
    "colab": {
      "provenance": [],
      "machine_shape": "hm"
    },
    "kernelspec": {
      "name": "python3",
      "display_name": "Python 3"
    },
    "language_info": {
      "name": "python"
    }
  },
  "cells": [
    {
      "cell_type": "code",
      "execution_count": 1,
      "metadata": {
        "id": "k_Ymf6j5grmu"
      },
      "outputs": [],
      "source": [
        "# Importing the necessary libraries\n",
        "\n",
        "import numpy as np\n",
        "from numpy import expand_dims\n",
        "import pandas as pd\n",
        "import os\n",
        "import json\n",
        "import matplotlib.pyplot as plt\n",
        "\n",
        "\n",
        "from sklearn.model_selection import train_test_split\n",
        "from sklearn.model_selection import cross_val_score\n",
        "from sklearn.metrics import confusion_matrix\n",
        "from tensorflow.keras.utils import to_categorical\n",
        "import keras\n",
        "from keras import layers\n",
        "from keras.models import Sequential\n",
        "from keras.layers import Dense, Dropout, Flatten, Conv2D, MaxPool2D\n",
        "from tensorflow.keras.optimizers import RMSprop,Adam\n",
        "from keras.preprocessing.image import ImageDataGenerator\n",
        "from keras.callbacks import EarlyStopping"
      ]
    },
    {
      "cell_type": "code",
      "source": [
        "# Unzipping dataset\n",
        "\n",
        "!unzip shipsnet.json.zip"
      ],
      "metadata": {
        "colab": {
          "base_uri": "https://localhost:8080/"
        },
        "id": "aK2u6eWKZ2sB",
        "outputId": "d30c1847-d43d-4b56-d57c-12efcc1a1dd8"
      },
      "execution_count": 4,
      "outputs": [
        {
          "output_type": "stream",
          "name": "stdout",
          "text": [
            "Archive:  shipsnet.json.zip\n",
            "replace shipsnet.json? [y]es, [n]o, [A]ll, [N]one, [r]ename: "
          ]
        }
      ]
    },
    {
      "cell_type": "code",
      "source": [
        "# Put dataset in pandas DataFrame\n",
        "\n",
        "with open('/content/shipsnet.json') as data_file:\n",
        "    dataset = json.load(data_file)\n",
        "ships = pd.DataFrame(dataset)\n",
        "ships.head()"
      ],
      "metadata": {
        "colab": {
          "base_uri": "https://localhost:8080/",
          "height": 206
        },
        "id": "q_TU_BxezYCo",
        "outputId": "32ce07cf-a057-405f-c30d-424ee91ed6bc"
      },
      "execution_count": 5,
      "outputs": [
        {
          "output_type": "execute_result",
          "data": {
            "text/plain": [
              "                                                data  labels  \\\n",
              "0  [82, 89, 91, 87, 89, 87, 86, 86, 86, 86, 84, 8...       1   \n",
              "1  [76, 75, 67, 62, 68, 72, 73, 73, 68, 69, 69, 6...       1   \n",
              "2  [125, 127, 129, 130, 126, 125, 129, 133, 132, ...       1   \n",
              "3  [102, 99, 113, 106, 96, 102, 105, 105, 103, 10...       1   \n",
              "4  [78, 76, 74, 78, 79, 79, 79, 82, 86, 85, 83, 8...       1   \n",
              "\n",
              "                                   locations             scene_ids  \n",
              "0    [-118.2254694333423, 33.73803725920789]  20180708_180909_0f47  \n",
              "1    [-122.33222866289329, 37.7491755586813]  20170705_180816_103e  \n",
              "2  [-118.14283073363218, 33.736016066914175]  20180712_211331_0f06  \n",
              "3   [-122.34784341495181, 37.76648707436548]  20170609_180756_103a  \n",
              "4   [-122.34852408322172, 37.75878462398653]  20170515_180653_1007  "
            ],
            "text/html": [
              "\n",
              "\n",
              "  <div id=\"df-8c8a663e-9b57-46c5-8df6-3e922b4c9c86\">\n",
              "    <div class=\"colab-df-container\">\n",
              "      <div>\n",
              "<style scoped>\n",
              "    .dataframe tbody tr th:only-of-type {\n",
              "        vertical-align: middle;\n",
              "    }\n",
              "\n",
              "    .dataframe tbody tr th {\n",
              "        vertical-align: top;\n",
              "    }\n",
              "\n",
              "    .dataframe thead th {\n",
              "        text-align: right;\n",
              "    }\n",
              "</style>\n",
              "<table border=\"1\" class=\"dataframe\">\n",
              "  <thead>\n",
              "    <tr style=\"text-align: right;\">\n",
              "      <th></th>\n",
              "      <th>data</th>\n",
              "      <th>labels</th>\n",
              "      <th>locations</th>\n",
              "      <th>scene_ids</th>\n",
              "    </tr>\n",
              "  </thead>\n",
              "  <tbody>\n",
              "    <tr>\n",
              "      <th>0</th>\n",
              "      <td>[82, 89, 91, 87, 89, 87, 86, 86, 86, 86, 84, 8...</td>\n",
              "      <td>1</td>\n",
              "      <td>[-118.2254694333423, 33.73803725920789]</td>\n",
              "      <td>20180708_180909_0f47</td>\n",
              "    </tr>\n",
              "    <tr>\n",
              "      <th>1</th>\n",
              "      <td>[76, 75, 67, 62, 68, 72, 73, 73, 68, 69, 69, 6...</td>\n",
              "      <td>1</td>\n",
              "      <td>[-122.33222866289329, 37.7491755586813]</td>\n",
              "      <td>20170705_180816_103e</td>\n",
              "    </tr>\n",
              "    <tr>\n",
              "      <th>2</th>\n",
              "      <td>[125, 127, 129, 130, 126, 125, 129, 133, 132, ...</td>\n",
              "      <td>1</td>\n",
              "      <td>[-118.14283073363218, 33.736016066914175]</td>\n",
              "      <td>20180712_211331_0f06</td>\n",
              "    </tr>\n",
              "    <tr>\n",
              "      <th>3</th>\n",
              "      <td>[102, 99, 113, 106, 96, 102, 105, 105, 103, 10...</td>\n",
              "      <td>1</td>\n",
              "      <td>[-122.34784341495181, 37.76648707436548]</td>\n",
              "      <td>20170609_180756_103a</td>\n",
              "    </tr>\n",
              "    <tr>\n",
              "      <th>4</th>\n",
              "      <td>[78, 76, 74, 78, 79, 79, 79, 82, 86, 85, 83, 8...</td>\n",
              "      <td>1</td>\n",
              "      <td>[-122.34852408322172, 37.75878462398653]</td>\n",
              "      <td>20170515_180653_1007</td>\n",
              "    </tr>\n",
              "  </tbody>\n",
              "</table>\n",
              "</div>\n",
              "      <button class=\"colab-df-convert\" onclick=\"convertToInteractive('df-8c8a663e-9b57-46c5-8df6-3e922b4c9c86')\"\n",
              "              title=\"Convert this dataframe to an interactive table.\"\n",
              "              style=\"display:none;\">\n",
              "\n",
              "  <svg xmlns=\"http://www.w3.org/2000/svg\" height=\"24px\"viewBox=\"0 0 24 24\"\n",
              "       width=\"24px\">\n",
              "    <path d=\"M0 0h24v24H0V0z\" fill=\"none\"/>\n",
              "    <path d=\"M18.56 5.44l.94 2.06.94-2.06 2.06-.94-2.06-.94-.94-2.06-.94 2.06-2.06.94zm-11 1L8.5 8.5l.94-2.06 2.06-.94-2.06-.94L8.5 2.5l-.94 2.06-2.06.94zm10 10l.94 2.06.94-2.06 2.06-.94-2.06-.94-.94-2.06-.94 2.06-2.06.94z\"/><path d=\"M17.41 7.96l-1.37-1.37c-.4-.4-.92-.59-1.43-.59-.52 0-1.04.2-1.43.59L10.3 9.45l-7.72 7.72c-.78.78-.78 2.05 0 2.83L4 21.41c.39.39.9.59 1.41.59.51 0 1.02-.2 1.41-.59l7.78-7.78 2.81-2.81c.8-.78.8-2.07 0-2.86zM5.41 20L4 18.59l7.72-7.72 1.47 1.35L5.41 20z\"/>\n",
              "  </svg>\n",
              "      </button>\n",
              "\n",
              "\n",
              "\n",
              "    <div id=\"df-517841ca-a785-4623-90dc-7efb565152c1\">\n",
              "      <button class=\"colab-df-quickchart\" onclick=\"quickchart('df-517841ca-a785-4623-90dc-7efb565152c1')\"\n",
              "              title=\"Suggest charts.\"\n",
              "              style=\"display:none;\">\n",
              "\n",
              "<svg xmlns=\"http://www.w3.org/2000/svg\" height=\"24px\"viewBox=\"0 0 24 24\"\n",
              "     width=\"24px\">\n",
              "    <g>\n",
              "        <path d=\"M19 3H5c-1.1 0-2 .9-2 2v14c0 1.1.9 2 2 2h14c1.1 0 2-.9 2-2V5c0-1.1-.9-2-2-2zM9 17H7v-7h2v7zm4 0h-2V7h2v10zm4 0h-2v-4h2v4z\"/>\n",
              "    </g>\n",
              "</svg>\n",
              "      </button>\n",
              "    </div>\n",
              "\n",
              "<style>\n",
              "  .colab-df-quickchart {\n",
              "    background-color: #E8F0FE;\n",
              "    border: none;\n",
              "    border-radius: 50%;\n",
              "    cursor: pointer;\n",
              "    display: none;\n",
              "    fill: #1967D2;\n",
              "    height: 32px;\n",
              "    padding: 0 0 0 0;\n",
              "    width: 32px;\n",
              "  }\n",
              "\n",
              "  .colab-df-quickchart:hover {\n",
              "    background-color: #E2EBFA;\n",
              "    box-shadow: 0px 1px 2px rgba(60, 64, 67, 0.3), 0px 1px 3px 1px rgba(60, 64, 67, 0.15);\n",
              "    fill: #174EA6;\n",
              "  }\n",
              "\n",
              "  [theme=dark] .colab-df-quickchart {\n",
              "    background-color: #3B4455;\n",
              "    fill: #D2E3FC;\n",
              "  }\n",
              "\n",
              "  [theme=dark] .colab-df-quickchart:hover {\n",
              "    background-color: #434B5C;\n",
              "    box-shadow: 0px 1px 3px 1px rgba(0, 0, 0, 0.15);\n",
              "    filter: drop-shadow(0px 1px 2px rgba(0, 0, 0, 0.3));\n",
              "    fill: #FFFFFF;\n",
              "  }\n",
              "</style>\n",
              "\n",
              "    <script>\n",
              "      async function quickchart(key) {\n",
              "        const containerElement = document.querySelector('#' + key);\n",
              "        const charts = await google.colab.kernel.invokeFunction(\n",
              "            'suggestCharts', [key], {});\n",
              "      }\n",
              "    </script>\n",
              "\n",
              "      <script>\n",
              "\n",
              "function displayQuickchartButton(domScope) {\n",
              "  let quickchartButtonEl =\n",
              "    domScope.querySelector('#df-517841ca-a785-4623-90dc-7efb565152c1 button.colab-df-quickchart');\n",
              "  quickchartButtonEl.style.display =\n",
              "    google.colab.kernel.accessAllowed ? 'block' : 'none';\n",
              "}\n",
              "\n",
              "        displayQuickchartButton(document);\n",
              "      </script>\n",
              "      <style>\n",
              "    .colab-df-container {\n",
              "      display:flex;\n",
              "      flex-wrap:wrap;\n",
              "      gap: 12px;\n",
              "    }\n",
              "\n",
              "    .colab-df-convert {\n",
              "      background-color: #E8F0FE;\n",
              "      border: none;\n",
              "      border-radius: 50%;\n",
              "      cursor: pointer;\n",
              "      display: none;\n",
              "      fill: #1967D2;\n",
              "      height: 32px;\n",
              "      padding: 0 0 0 0;\n",
              "      width: 32px;\n",
              "    }\n",
              "\n",
              "    .colab-df-convert:hover {\n",
              "      background-color: #E2EBFA;\n",
              "      box-shadow: 0px 1px 2px rgba(60, 64, 67, 0.3), 0px 1px 3px 1px rgba(60, 64, 67, 0.15);\n",
              "      fill: #174EA6;\n",
              "    }\n",
              "\n",
              "    [theme=dark] .colab-df-convert {\n",
              "      background-color: #3B4455;\n",
              "      fill: #D2E3FC;\n",
              "    }\n",
              "\n",
              "    [theme=dark] .colab-df-convert:hover {\n",
              "      background-color: #434B5C;\n",
              "      box-shadow: 0px 1px 3px 1px rgba(0, 0, 0, 0.15);\n",
              "      filter: drop-shadow(0px 1px 2px rgba(0, 0, 0, 0.3));\n",
              "      fill: #FFFFFF;\n",
              "    }\n",
              "  </style>\n",
              "\n",
              "      <script>\n",
              "        const buttonEl =\n",
              "          document.querySelector('#df-8c8a663e-9b57-46c5-8df6-3e922b4c9c86 button.colab-df-convert');\n",
              "        buttonEl.style.display =\n",
              "          google.colab.kernel.accessAllowed ? 'block' : 'none';\n",
              "\n",
              "        async function convertToInteractive(key) {\n",
              "          const element = document.querySelector('#df-8c8a663e-9b57-46c5-8df6-3e922b4c9c86');\n",
              "          const dataTable =\n",
              "            await google.colab.kernel.invokeFunction('convertToInteractive',\n",
              "                                                     [key], {});\n",
              "          if (!dataTable) return;\n",
              "\n",
              "          const docLinkHtml = 'Like what you see? Visit the ' +\n",
              "            '<a target=\"_blank\" href=https://colab.research.google.com/notebooks/data_table.ipynb>data table notebook</a>'\n",
              "            + ' to learn more about interactive tables.';\n",
              "          element.innerHTML = '';\n",
              "          dataTable['output_type'] = 'display_data';\n",
              "          await google.colab.output.renderOutput(dataTable, element);\n",
              "          const docLink = document.createElement('div');\n",
              "          docLink.innerHTML = docLinkHtml;\n",
              "          element.appendChild(docLink);\n",
              "        }\n",
              "      </script>\n",
              "    </div>\n",
              "  </div>\n"
            ]
          },
          "metadata": {},
          "execution_count": 5
        }
      ]
    },
    {
      "cell_type": "code",
      "source": [
        "# Data and Labels columns are extracted (only need these two columns)\n",
        "\n",
        "ships = ships[['data', 'labels']]\n",
        "ships.head()"
      ],
      "metadata": {
        "colab": {
          "base_uri": "https://localhost:8080/",
          "height": 206
        },
        "id": "jz2NYQJ8zw9y",
        "outputId": "f83d2642-d5d5-4811-ab12-2ef4023e196c"
      },
      "execution_count": 5,
      "outputs": [
        {
          "output_type": "execute_result",
          "data": {
            "text/plain": [
              "                                                data  labels\n",
              "0  [82, 89, 91, 87, 89, 87, 86, 86, 86, 86, 84, 8...       1\n",
              "1  [76, 75, 67, 62, 68, 72, 73, 73, 68, 69, 69, 6...       1\n",
              "2  [125, 127, 129, 130, 126, 125, 129, 133, 132, ...       1\n",
              "3  [102, 99, 113, 106, 96, 102, 105, 105, 103, 10...       1\n",
              "4  [78, 76, 74, 78, 79, 79, 79, 82, 86, 85, 83, 8...       1"
            ],
            "text/html": [
              "\n",
              "\n",
              "  <div id=\"df-ad02809e-a063-4ac4-8796-6f4bd52ca840\">\n",
              "    <div class=\"colab-df-container\">\n",
              "      <div>\n",
              "<style scoped>\n",
              "    .dataframe tbody tr th:only-of-type {\n",
              "        vertical-align: middle;\n",
              "    }\n",
              "\n",
              "    .dataframe tbody tr th {\n",
              "        vertical-align: top;\n",
              "    }\n",
              "\n",
              "    .dataframe thead th {\n",
              "        text-align: right;\n",
              "    }\n",
              "</style>\n",
              "<table border=\"1\" class=\"dataframe\">\n",
              "  <thead>\n",
              "    <tr style=\"text-align: right;\">\n",
              "      <th></th>\n",
              "      <th>data</th>\n",
              "      <th>labels</th>\n",
              "    </tr>\n",
              "  </thead>\n",
              "  <tbody>\n",
              "    <tr>\n",
              "      <th>0</th>\n",
              "      <td>[82, 89, 91, 87, 89, 87, 86, 86, 86, 86, 84, 8...</td>\n",
              "      <td>1</td>\n",
              "    </tr>\n",
              "    <tr>\n",
              "      <th>1</th>\n",
              "      <td>[76, 75, 67, 62, 68, 72, 73, 73, 68, 69, 69, 6...</td>\n",
              "      <td>1</td>\n",
              "    </tr>\n",
              "    <tr>\n",
              "      <th>2</th>\n",
              "      <td>[125, 127, 129, 130, 126, 125, 129, 133, 132, ...</td>\n",
              "      <td>1</td>\n",
              "    </tr>\n",
              "    <tr>\n",
              "      <th>3</th>\n",
              "      <td>[102, 99, 113, 106, 96, 102, 105, 105, 103, 10...</td>\n",
              "      <td>1</td>\n",
              "    </tr>\n",
              "    <tr>\n",
              "      <th>4</th>\n",
              "      <td>[78, 76, 74, 78, 79, 79, 79, 82, 86, 85, 83, 8...</td>\n",
              "      <td>1</td>\n",
              "    </tr>\n",
              "  </tbody>\n",
              "</table>\n",
              "</div>\n",
              "      <button class=\"colab-df-convert\" onclick=\"convertToInteractive('df-ad02809e-a063-4ac4-8796-6f4bd52ca840')\"\n",
              "              title=\"Convert this dataframe to an interactive table.\"\n",
              "              style=\"display:none;\">\n",
              "\n",
              "  <svg xmlns=\"http://www.w3.org/2000/svg\" height=\"24px\"viewBox=\"0 0 24 24\"\n",
              "       width=\"24px\">\n",
              "    <path d=\"M0 0h24v24H0V0z\" fill=\"none\"/>\n",
              "    <path d=\"M18.56 5.44l.94 2.06.94-2.06 2.06-.94-2.06-.94-.94-2.06-.94 2.06-2.06.94zm-11 1L8.5 8.5l.94-2.06 2.06-.94-2.06-.94L8.5 2.5l-.94 2.06-2.06.94zm10 10l.94 2.06.94-2.06 2.06-.94-2.06-.94-.94-2.06-.94 2.06-2.06.94z\"/><path d=\"M17.41 7.96l-1.37-1.37c-.4-.4-.92-.59-1.43-.59-.52 0-1.04.2-1.43.59L10.3 9.45l-7.72 7.72c-.78.78-.78 2.05 0 2.83L4 21.41c.39.39.9.59 1.41.59.51 0 1.02-.2 1.41-.59l7.78-7.78 2.81-2.81c.8-.78.8-2.07 0-2.86zM5.41 20L4 18.59l7.72-7.72 1.47 1.35L5.41 20z\"/>\n",
              "  </svg>\n",
              "      </button>\n",
              "\n",
              "\n",
              "\n",
              "    <div id=\"df-fa882aaa-4005-4753-aacd-abd4b53255b2\">\n",
              "      <button class=\"colab-df-quickchart\" onclick=\"quickchart('df-fa882aaa-4005-4753-aacd-abd4b53255b2')\"\n",
              "              title=\"Suggest charts.\"\n",
              "              style=\"display:none;\">\n",
              "\n",
              "<svg xmlns=\"http://www.w3.org/2000/svg\" height=\"24px\"viewBox=\"0 0 24 24\"\n",
              "     width=\"24px\">\n",
              "    <g>\n",
              "        <path d=\"M19 3H5c-1.1 0-2 .9-2 2v14c0 1.1.9 2 2 2h14c1.1 0 2-.9 2-2V5c0-1.1-.9-2-2-2zM9 17H7v-7h2v7zm4 0h-2V7h2v10zm4 0h-2v-4h2v4z\"/>\n",
              "    </g>\n",
              "</svg>\n",
              "      </button>\n",
              "    </div>\n",
              "\n",
              "<style>\n",
              "  .colab-df-quickchart {\n",
              "    background-color: #E8F0FE;\n",
              "    border: none;\n",
              "    border-radius: 50%;\n",
              "    cursor: pointer;\n",
              "    display: none;\n",
              "    fill: #1967D2;\n",
              "    height: 32px;\n",
              "    padding: 0 0 0 0;\n",
              "    width: 32px;\n",
              "  }\n",
              "\n",
              "  .colab-df-quickchart:hover {\n",
              "    background-color: #E2EBFA;\n",
              "    box-shadow: 0px 1px 2px rgba(60, 64, 67, 0.3), 0px 1px 3px 1px rgba(60, 64, 67, 0.15);\n",
              "    fill: #174EA6;\n",
              "  }\n",
              "\n",
              "  [theme=dark] .colab-df-quickchart {\n",
              "    background-color: #3B4455;\n",
              "    fill: #D2E3FC;\n",
              "  }\n",
              "\n",
              "  [theme=dark] .colab-df-quickchart:hover {\n",
              "    background-color: #434B5C;\n",
              "    box-shadow: 0px 1px 3px 1px rgba(0, 0, 0, 0.15);\n",
              "    filter: drop-shadow(0px 1px 2px rgba(0, 0, 0, 0.3));\n",
              "    fill: #FFFFFF;\n",
              "  }\n",
              "</style>\n",
              "\n",
              "    <script>\n",
              "      async function quickchart(key) {\n",
              "        const containerElement = document.querySelector('#' + key);\n",
              "        const charts = await google.colab.kernel.invokeFunction(\n",
              "            'suggestCharts', [key], {});\n",
              "      }\n",
              "    </script>\n",
              "\n",
              "      <script>\n",
              "\n",
              "function displayQuickchartButton(domScope) {\n",
              "  let quickchartButtonEl =\n",
              "    domScope.querySelector('#df-fa882aaa-4005-4753-aacd-abd4b53255b2 button.colab-df-quickchart');\n",
              "  quickchartButtonEl.style.display =\n",
              "    google.colab.kernel.accessAllowed ? 'block' : 'none';\n",
              "}\n",
              "\n",
              "        displayQuickchartButton(document);\n",
              "      </script>\n",
              "      <style>\n",
              "    .colab-df-container {\n",
              "      display:flex;\n",
              "      flex-wrap:wrap;\n",
              "      gap: 12px;\n",
              "    }\n",
              "\n",
              "    .colab-df-convert {\n",
              "      background-color: #E8F0FE;\n",
              "      border: none;\n",
              "      border-radius: 50%;\n",
              "      cursor: pointer;\n",
              "      display: none;\n",
              "      fill: #1967D2;\n",
              "      height: 32px;\n",
              "      padding: 0 0 0 0;\n",
              "      width: 32px;\n",
              "    }\n",
              "\n",
              "    .colab-df-convert:hover {\n",
              "      background-color: #E2EBFA;\n",
              "      box-shadow: 0px 1px 2px rgba(60, 64, 67, 0.3), 0px 1px 3px 1px rgba(60, 64, 67, 0.15);\n",
              "      fill: #174EA6;\n",
              "    }\n",
              "\n",
              "    [theme=dark] .colab-df-convert {\n",
              "      background-color: #3B4455;\n",
              "      fill: #D2E3FC;\n",
              "    }\n",
              "\n",
              "    [theme=dark] .colab-df-convert:hover {\n",
              "      background-color: #434B5C;\n",
              "      box-shadow: 0px 1px 3px 1px rgba(0, 0, 0, 0.15);\n",
              "      filter: drop-shadow(0px 1px 2px rgba(0, 0, 0, 0.3));\n",
              "      fill: #FFFFFF;\n",
              "    }\n",
              "  </style>\n",
              "\n",
              "      <script>\n",
              "        const buttonEl =\n",
              "          document.querySelector('#df-ad02809e-a063-4ac4-8796-6f4bd52ca840 button.colab-df-convert');\n",
              "        buttonEl.style.display =\n",
              "          google.colab.kernel.accessAllowed ? 'block' : 'none';\n",
              "\n",
              "        async function convertToInteractive(key) {\n",
              "          const element = document.querySelector('#df-ad02809e-a063-4ac4-8796-6f4bd52ca840');\n",
              "          const dataTable =\n",
              "            await google.colab.kernel.invokeFunction('convertToInteractive',\n",
              "                                                     [key], {});\n",
              "          if (!dataTable) return;\n",
              "\n",
              "          const docLinkHtml = 'Like what you see? Visit the ' +\n",
              "            '<a target=\"_blank\" href=https://colab.research.google.com/notebooks/data_table.ipynb>data table notebook</a>'\n",
              "            + ' to learn more about interactive tables.';\n",
              "          element.innerHTML = '';\n",
              "          dataTable['output_type'] = 'display_data';\n",
              "          await google.colab.output.renderOutput(dataTable, element);\n",
              "          const docLink = document.createElement('div');\n",
              "          docLink.innerHTML = docLinkHtml;\n",
              "          element.appendChild(docLink);\n",
              "        }\n",
              "      </script>\n",
              "    </div>\n",
              "  </div>\n"
            ]
          },
          "metadata": {},
          "execution_count": 5
        }
      ]
    },
    {
      "cell_type": "code",
      "source": [
        "# Check the number of ship and not ship images\n",
        "\n",
        "ship_images = ships['labels'].value_counts()[0]\n",
        "not_ship_images = ships['labels'].value_counts()[1]\n",
        "print(\"Number of ship images: {}\".format(ship_images), \"\\n\")\n",
        "print(\"Number of not ship images: {}\".format(not_ship_images))"
      ],
      "metadata": {
        "colab": {
          "base_uri": "https://localhost:8080/"
        },
        "id": "whccTAMx0KvI",
        "outputId": "c2de03c8-499d-41ab-b3a7-40a5b03ec6e6"
      },
      "execution_count": 6,
      "outputs": [
        {
          "output_type": "stream",
          "name": "stdout",
          "text": [
            "Number of ship images: 3000 \n",
            "\n",
            "Number of not ship images: 1000\n"
          ]
        }
      ]
    },
    {
      "cell_type": "code",
      "source": [
        "# Converting data and labels into NumPy arrays of type uint8\n",
        "\n",
        "x = np.array(dataset['data']).astype('uint8')\n",
        "y = np.array(dataset['labels']).astype('uint8')"
      ],
      "metadata": {
        "id": "yFBC8BJu2AxX"
      },
      "execution_count": 7,
      "outputs": []
    },
    {
      "cell_type": "code",
      "source": [
        "# Image data is reshaped and transposed to match the input shape expected by the model\n",
        "\n",
        "x_reshaped = x.reshape([-1, 3, 80, 80]).transpose([0, 2, 3, 1])\n",
        "x_reshaped.shape"
      ],
      "metadata": {
        "colab": {
          "base_uri": "https://localhost:8080/"
        },
        "id": "XykSB1D92Nqt",
        "outputId": "9eaf37d1-8bf5-4a34-bfd8-88d357476abe"
      },
      "execution_count": 8,
      "outputs": [
        {
          "output_type": "execute_result",
          "data": {
            "text/plain": [
              "(4000, 80, 80, 3)"
            ]
          },
          "metadata": {},
          "execution_count": 8
        }
      ]
    },
    {
      "cell_type": "code",
      "source": [
        "# Function used to perform image processing\n",
        "\n",
        "def add_padding(x_reshaped, target_size):\n",
        "  padded_images = []\n",
        "  for image in x_reshaped:\n",
        "    height, width, channels = image.shape\n",
        "\n",
        "    pad_height = max(target_size[0] - height, 0)\n",
        "    pad_width = max(target_size[1] - width, 0)\n",
        "\n",
        "    pad_top = pad_height // 2\n",
        "    pad_bottom = pad_height - pad_top\n",
        "    pad_left = pad_width // 2\n",
        "    pad_right = pad_width - pad_left\n",
        "\n",
        "    padded_image = np.pad(image, ((pad_top, pad_bottom), (pad_left, pad_right), (0,0)), mode='constant')\n",
        "    padded_images.append(padded_image)\n",
        "  return np.array(padded_images)"
      ],
      "metadata": {
        "id": "jAFVwMeO2w72"
      },
      "execution_count": 9,
      "outputs": []
    },
    {
      "cell_type": "code",
      "source": [
        "# Image processing performed\n",
        "\n",
        "target_size = (224, 224, 3)\n",
        "padded_images = add_padding(x_reshaped, target_size)\n",
        "print(padded_images.shape)"
      ],
      "metadata": {
        "colab": {
          "base_uri": "https://localhost:8080/"
        },
        "id": "S8XG_-4o383T",
        "outputId": "302a9388-28dc-490f-e4cf-7524300b75d7"
      },
      "execution_count": 10,
      "outputs": [
        {
          "output_type": "stream",
          "name": "stdout",
          "text": [
            "(4000, 224, 224, 3)\n"
          ]
        }
      ]
    },
    {
      "cell_type": "code",
      "source": [
        "# Pixel values are normalized to be between 0 and 1\n",
        "\n",
        "x_reshaped = padded_images/255"
      ],
      "metadata": {
        "id": "TwGheJA94hEt"
      },
      "execution_count": 11,
      "outputs": []
    },
    {
      "cell_type": "code",
      "source": [
        "x_reshaped.shape"
      ],
      "metadata": {
        "colab": {
          "base_uri": "https://localhost:8080/"
        },
        "id": "lJqYzRxI4qQu",
        "outputId": "fff98b41-a9ea-4bb8-cfd1-6191d531d245"
      },
      "execution_count": 12,
      "outputs": [
        {
          "output_type": "execute_result",
          "data": {
            "text/plain": [
              "(4000, 224, 224, 3)"
            ]
          },
          "metadata": {},
          "execution_count": 12
        }
      ]
    },
    {
      "cell_type": "code",
      "source": [
        "y.shape"
      ],
      "metadata": {
        "colab": {
          "base_uri": "https://localhost:8080/"
        },
        "id": "oLbqzcTf4sEd",
        "outputId": "640c6aea-6cfe-465a-8eb7-cc64f09ecd04"
      },
      "execution_count": 13,
      "outputs": [
        {
          "output_type": "execute_result",
          "data": {
            "text/plain": [
              "(4000,)"
            ]
          },
          "metadata": {},
          "execution_count": 13
        }
      ]
    },
    {
      "cell_type": "code",
      "source": [
        "# Labels are one-hot encoded to prepare for use of categorical crossentropy\n",
        "\n",
        "y_reshaped = to_categorical(y, num_classes=2)\n",
        "y_reshaped.shape"
      ],
      "metadata": {
        "colab": {
          "base_uri": "https://localhost:8080/"
        },
        "id": "avkm6OE14tOJ",
        "outputId": "27035de1-c6b3-452e-cf67-a54a8efb2820"
      },
      "execution_count": 15,
      "outputs": [
        {
          "output_type": "execute_result",
          "data": {
            "text/plain": [
              "(4000, 2)"
            ]
          },
          "metadata": {},
          "execution_count": 15
        }
      ]
    },
    {
      "cell_type": "code",
      "source": [
        "# Dataset is split into training, validation, and testing sets\n",
        "\n",
        "x_train_1, x_test_1, y_train_1, y_test_1 = train_test_split(x_reshaped, y_reshaped, test_size=0.20, random_state=42)\n",
        "x_train, x_val, y_train, y_val = train_test_split(x_train_1, y_train_1, test_size=0.25, random_state=42)\n"
      ],
      "metadata": {
        "id": "xXk0mAl-4yZ_"
      },
      "execution_count": 16,
      "outputs": []
    },
    {
      "cell_type": "code",
      "source": [
        "# Installing efficientnet for EfficientNETB0 model\n",
        "\n",
        "!pip install efficientnet"
      ],
      "metadata": {
        "colab": {
          "base_uri": "https://localhost:8080/"
        },
        "id": "6V4om6yg5E9A",
        "outputId": "db847bf3-211a-4540-c6c7-04e404c4bf9d"
      },
      "execution_count": 17,
      "outputs": [
        {
          "output_type": "stream",
          "name": "stdout",
          "text": [
            "Collecting efficientnet\n",
            "  Downloading efficientnet-1.1.1-py3-none-any.whl (18 kB)\n",
            "Collecting keras-applications<=1.0.8,>=1.0.7 (from efficientnet)\n",
            "  Downloading Keras_Applications-1.0.8-py3-none-any.whl (50 kB)\n",
            "\u001b[?25l     \u001b[90m━━━━━━━━━━━━━━━━━━━━━━━━━━━━━━━━━━━━━━━━\u001b[0m \u001b[32m0.0/50.7 kB\u001b[0m \u001b[31m?\u001b[0m eta \u001b[36m-:--:--\u001b[0m\r\u001b[2K     \u001b[90m━━━━━━━━━━━━━━━━━━━━━━━━━━━━━━━━━━━━━━━━\u001b[0m \u001b[32m50.7/50.7 kB\u001b[0m \u001b[31m3.8 MB/s\u001b[0m eta \u001b[36m0:00:00\u001b[0m\n",
            "\u001b[?25hRequirement already satisfied: scikit-image in /usr/local/lib/python3.10/dist-packages (from efficientnet) (0.19.3)\n",
            "Requirement already satisfied: numpy>=1.9.1 in /usr/local/lib/python3.10/dist-packages (from keras-applications<=1.0.8,>=1.0.7->efficientnet) (1.22.4)\n",
            "Requirement already satisfied: h5py in /usr/local/lib/python3.10/dist-packages (from keras-applications<=1.0.8,>=1.0.7->efficientnet) (3.8.0)\n",
            "Requirement already satisfied: scipy>=1.4.1 in /usr/local/lib/python3.10/dist-packages (from scikit-image->efficientnet) (1.10.1)\n",
            "Requirement already satisfied: networkx>=2.2 in /usr/local/lib/python3.10/dist-packages (from scikit-image->efficientnet) (3.1)\n",
            "Requirement already satisfied: pillow!=7.1.0,!=7.1.1,!=8.3.0,>=6.1.0 in /usr/local/lib/python3.10/dist-packages (from scikit-image->efficientnet) (9.4.0)\n",
            "Requirement already satisfied: imageio>=2.4.1 in /usr/local/lib/python3.10/dist-packages (from scikit-image->efficientnet) (2.25.1)\n",
            "Requirement already satisfied: tifffile>=2019.7.26 in /usr/local/lib/python3.10/dist-packages (from scikit-image->efficientnet) (2023.7.18)\n",
            "Requirement already satisfied: PyWavelets>=1.1.1 in /usr/local/lib/python3.10/dist-packages (from scikit-image->efficientnet) (1.4.1)\n",
            "Requirement already satisfied: packaging>=20.0 in /usr/local/lib/python3.10/dist-packages (from scikit-image->efficientnet) (23.1)\n",
            "Installing collected packages: keras-applications, efficientnet\n",
            "Successfully installed efficientnet-1.1.1 keras-applications-1.0.8\n"
          ]
        }
      ]
    },
    {
      "cell_type": "code",
      "source": [
        "# Import necessary modules from Keras and EfficientNet\n",
        "from tensorflow.keras.layers import GlobalAveragePooling2D, Dense, Dropout\n",
        "from tensorflow.keras.models import Sequential\n",
        "from efficientnet.tfkeras import EfficientNetB0\n",
        "from tensorflow.keras.regularizers import l2\n",
        "\n",
        "# Initialize base model without final fully connected layer so we can add our own classification layers\n",
        "base_model = EfficientNetB0(weights='imagenet', include_top=False, input_shape=(224, 224, 3))\n",
        "\n",
        "# Setting number of classes for classification task\n",
        "n_classes = 2\n",
        "# Set all layers in base model to be trainable\n",
        "base_model.trainable = True\n",
        "\n",
        "# Set the last 10 layers of the base model to be trainable (fine-tuning)\n",
        "for layer in base_model.layers[:-10]:\n",
        "    layer.trainable = False\n",
        "\n",
        "# Define new model using Sequential API\n",
        "model = Sequential()\n",
        "model.add(base_model)\n",
        "model.add(GlobalAveragePooling2D()) # reduces the spatial dimensions of the input\n",
        "model.add(Dense(64, activation='relu', kernel_regularizer=l2(0.01)))\n",
        "model.add(Dropout(0.5)) # helps prevent overfitting\n",
        "model.add(Dense(n_classes, activation='softmax')) # outputs a probability distribution over the classes\n",
        "\n",
        "# Complie the model\n",
        "model.compile(optimizer='adam', loss='categorical_crossentropy', metrics=['accuracy'])\n",
        "\n",
        "# Print model summary\n",
        "model.summary()"
      ],
      "metadata": {
        "colab": {
          "base_uri": "https://localhost:8080/"
        },
        "id": "7FNT5I3R6g90",
        "outputId": "15b83a1d-3668-4e65-f434-181e1acaa940"
      },
      "execution_count": 18,
      "outputs": [
        {
          "output_type": "stream",
          "name": "stdout",
          "text": [
            "Downloading data from https://github.com/Callidior/keras-applications/releases/download/efficientnet/efficientnet-b0_weights_tf_dim_ordering_tf_kernels_autoaugment_notop.h5\n",
            "16804768/16804768 [==============================] - 0s 0us/step\n",
            "Model: \"sequential\"\n",
            "_________________________________________________________________\n",
            " Layer (type)                Output Shape              Param #   \n",
            "=================================================================\n",
            " efficientnet-b0 (Functional  (None, 7, 7, 1280)       4049564   \n",
            " )                                                               \n",
            "                                                                 \n",
            " global_average_pooling2d (G  (None, 1280)             0         \n",
            " lobalAveragePooling2D)                                          \n",
            "                                                                 \n",
            " dense (Dense)               (None, 64)                81984     \n",
            "                                                                 \n",
            " dropout (Dropout)           (None, 64)                0         \n",
            "                                                                 \n",
            " dense_1 (Dense)             (None, 2)                 130       \n",
            "                                                                 \n",
            "=================================================================\n",
            "Total params: 4,131,678\n",
            "Trainable params: 975,346\n",
            "Non-trainable params: 3,156,332\n",
            "_________________________________________________________________\n"
          ]
        }
      ]
    },
    {
      "cell_type": "code",
      "source": [
        "from keras import callbacks\n",
        "import cv2\n",
        "\n",
        "# Function to apply a series of random transformations to an image\n",
        "def apply_transform(image):\n",
        "  shear_range = 20\n",
        "  translation_range = 0.2\n",
        "  zoom_range = [0.8, 1.2]\n",
        "  rotation_range = 20\n",
        "\n",
        "  rows, cols, _ = image.shape\n",
        "  shear = np.random.randint(-shear_range, shear_range)\n",
        "  translation_x = np.random.randint(-translation_range * cols, translation_range * cols)\n",
        "  translation_y = np.random.randint(-translation_range * rows, translation_range * rows)\n",
        "  zoom = np.random.uniform(zoom_range[0], zoom_range[1])\n",
        "  rotation = np.random.randint(-rotation_range, rotation_range)\n",
        "\n",
        "  matrix = cv2.getRotationMatrix2D((cols // 2, rows // 2), rotation, zoom)\n",
        "  matrix[:, 2] += (translation_x, translation_y)\n",
        "\n",
        "  shear_matrix = np.array([[1, abs(np.tan(np.deg2rad(shear))), 0], [0, 1, 0]])\n",
        "\n",
        "  if shear > 0:\n",
        "    image = cv2.warpAffine(image, shear_matrix, (cols, rows), borderMode=cv2.BORDER_REFLECT_101)\n",
        "  else:\n",
        "    image = cv2.warpAffine(image, matrix, (cols, rows), borderMode=cv2.BORDER_REFLECT_101)\n",
        "\n",
        "  return cv2.warpAffine(image, matrix, (cols, rows), borderMode=cv2.BORDER_REFLECT_101)\n",
        "\n",
        "aug = ImageDataGenerator(\n",
        "    rotation_range = 20,\n",
        "    width_shift_range = 0.2,\n",
        "    height_shift_range = 0.2,\n",
        "    shear_range = 0.2,\n",
        "    zoom_range = 0.2,\n",
        "    horizontal_flip = True,\n",
        "    fill_mode = 'nearest',\n",
        "    preprocessing_function = apply_transform)\n",
        "\n",
        "\n",
        "from tensorflow.keras.callbacks import LearningRateScheduler\n",
        "\n",
        "# Function to control learning rate during training\n",
        "def lr_schedule(epoch):\n",
        "  initial_lr = 0.001\n",
        "  if epoch < 5:\n",
        "    return initial_lr\n",
        "  else:\n",
        "    return initial_lr / 100\n",
        "\n",
        "lr_scheduler = LearningRateScheduler(lr_schedule)\n",
        "\n",
        "batch_size = 25\n",
        "epochs = 8\n",
        "\n",
        "# Number of batches of samples that will constitute an epoch\n",
        "steps_per_epoch = len(x_train) // batch_size\n",
        "\n",
        "# Trian the model\n",
        "history = model.fit(aug.flow(x_train, y_train, batch_size = batch_size),\n",
        "                    steps_per_epoch = steps_per_epoch,\n",
        "                    epochs = epochs,\n",
        "                    validation_data = (x_test_1, y_test_1),\n",
        "                    callbacks = [lr_scheduler])\n"
      ],
      "metadata": {
        "colab": {
          "base_uri": "https://localhost:8080/"
        },
        "id": "P0F7r4CB69ti",
        "outputId": "adbd5826-618d-48bc-f8c2-4e19bea015f4"
      },
      "execution_count": 19,
      "outputs": [
        {
          "output_type": "stream",
          "name": "stdout",
          "text": [
            "Epoch 1/8\n",
            "96/96 [==============================] - 95s 934ms/step - loss: 0.9586 - accuracy: 0.8763 - val_loss: 0.4349 - val_accuracy: 0.9675 - lr: 0.0010\n",
            "Epoch 2/8\n",
            "96/96 [==============================] - 87s 901ms/step - loss: 0.4019 - accuracy: 0.9217 - val_loss: 0.2508 - val_accuracy: 0.9588 - lr: 0.0010\n",
            "Epoch 3/8\n",
            "96/96 [==============================] - 84s 878ms/step - loss: 0.2771 - accuracy: 0.9292 - val_loss: 0.1354 - val_accuracy: 0.9737 - lr: 0.0010\n",
            "Epoch 4/8\n",
            "96/96 [==============================] - 87s 901ms/step - loss: 0.2077 - accuracy: 0.9396 - val_loss: 0.1193 - val_accuracy: 0.9862 - lr: 0.0010\n",
            "Epoch 5/8\n",
            "96/96 [==============================] - 93s 965ms/step - loss: 0.1878 - accuracy: 0.9383 - val_loss: 0.2043 - val_accuracy: 0.9725 - lr: 0.0010\n",
            "Epoch 6/8\n",
            "96/96 [==============================] - 88s 921ms/step - loss: 0.1866 - accuracy: 0.9417 - val_loss: 0.1106 - val_accuracy: 0.9787 - lr: 1.0000e-05\n",
            "Epoch 7/8\n",
            "96/96 [==============================] - 88s 919ms/step - loss: 0.1597 - accuracy: 0.9533 - val_loss: 0.1019 - val_accuracy: 0.9775 - lr: 1.0000e-05\n",
            "Epoch 8/8\n",
            "96/96 [==============================] - 91s 950ms/step - loss: 0.1703 - accuracy: 0.9479 - val_loss: 0.0990 - val_accuracy: 0.9825 - lr: 1.0000e-05\n"
          ]
        }
      ]
    },
    {
      "cell_type": "code",
      "source": [
        "# Model is evaluated on the test set\n",
        "\n",
        "model.evaluate(x_test_1, y_test_1)"
      ],
      "metadata": {
        "colab": {
          "base_uri": "https://localhost:8080/"
        },
        "id": "LwaKvzh_-1wM",
        "outputId": "e4d28e6d-6749-403f-c0b4-1ca0358eb430"
      },
      "execution_count": 20,
      "outputs": [
        {
          "output_type": "stream",
          "name": "stdout",
          "text": [
            "25/25 [==============================] - 23s 940ms/step - loss: 0.0990 - accuracy: 0.9825\n"
          ]
        },
        {
          "output_type": "execute_result",
          "data": {
            "text/plain": [
              "[0.09899012744426727, 0.9825000166893005]"
            ]
          },
          "metadata": {},
          "execution_count": 20
        }
      ]
    },
    {
      "cell_type": "code",
      "source": [
        "from sklearn import metrics\n",
        "import seaborn as sns\n",
        "\n",
        "# Generate predictions for the test set\n",
        "Y_pred = model.predict(x_test_1)\n",
        "# Convert predictions classes to one hot vectors\n",
        "Y_pred_classes = np.argmax(Y_pred,axis = 1)\n",
        "# Convert validation observations to one hot vectors\n",
        "Y_true = np.argmax(y_test_1,axis = 1)\n",
        "\n",
        "# Print accuracy score\n",
        "print(\"\\n\"\"Test Accuracy Score : \",metrics.accuracy_score(Y_true, Y_pred_classes),\"\\n\")\n",
        "\n",
        "# Plots to show training history\n",
        "fig, axis = plt.subplots(1, 3, figsize=(20,6))\n",
        "axis[0].plot(history.history['val_accuracy'], label='val_acc')\n",
        "axis[0].set_title(\"Validation Accuracy\")\n",
        "axis[0].set_xlabel(\"Epochs\")\n",
        "axis[0].set_ylabel(\"Val. Acc.\")\n",
        "axis[1].plot(history.history['accuracy'], label='acc')\n",
        "axis[1].set_title(\"Training Accuracy\")\n",
        "axis[1].set_xlabel(\"Epochs\")\n",
        "axis[0].set_ylabel(\"Train. Acc.\")\n",
        "axis[2].plot(history.history['val_loss'], label='val_loss')\n",
        "axis[2].set_title(\"Test Loss\")\n",
        "axis[2].set_xlabel(\"Epochs\")\n",
        "axis[2].set_ylabel(\"Loss\")\n",
        "\n",
        "plt.show()\n",
        "\n",
        "confusion_mtx = confusion_matrix(Y_true, Y_pred_classes)\n",
        "# Plot the confusion matrix\n",
        "f,ax = plt.subplots(figsize=(7, 7))\n",
        "sns.heatmap(confusion_mtx, annot=True, linewidths=0.01,linecolor=\"gray\", fmt= '.1f',ax=ax)\n",
        "plt.xlabel(\"Predicted Label\")\n",
        "plt.ylabel(\"True Label\")\n",
        "plt.title(\"Confusion Matrix\")\n",
        "plt.tight_layout()\n",
        "\n",
        "plt.show()"
      ],
      "metadata": {
        "colab": {
          "base_uri": "https://localhost:8080/",
          "height": 1000
        },
        "id": "yIrBUu4qELav",
        "outputId": "19ac1edf-d047-411b-bcfe-980b3db686f0"
      },
      "execution_count": 21,
      "outputs": [
        {
          "output_type": "stream",
          "name": "stdout",
          "text": [
            "25/25 [==============================] - 20s 751ms/step\n",
            "\n",
            "Test Accuracy Score :  0.9825 \n",
            "\n"
          ]
        },
        {
          "output_type": "display_data",
          "data": {
            "text/plain": [
              "<Figure size 2000x600 with 3 Axes>"
            ],
            "image/png": "[encoded data removed]"
          },
          "metadata": {}
        },
        {
          "output_type": "display_data",
          "data": {
            "text/plain": [
              "<Figure size 700x700 with 2 Axes>"
            ],
            "image/png": "[encoded data removed]"
          },
          "metadata": {}
        }
      ]
    },
    {
      "cell_type": "code",
      "source": [
        "pd.DataFrame(history.history).plot();"
      ],
      "metadata": {
        "colab": {
          "base_uri": "https://localhost:8080/",
          "height": 430
        },
        "id": "nTTgNxebEdbx",
        "outputId": "7cecc714-529b-4706-9f8a-8c3680f55388"
      },
      "execution_count": 22,
      "outputs": [
        {
          "output_type": "display_data",
          "data": {
            "text/plain": [
              "<Figure size 640x480 with 1 Axes>"
            ],
            "image/png": "[encoded data removed]"
          },
          "metadata": {}
        }
      ]
    },
    {
      "cell_type": "code",
      "source": [
        "# Save the model\n",
        "\n",
        "model.save('ShipDetection_8epochs.h5')"
      ],
      "metadata": {
        "id": "fqt82kzbFjev"
      },
      "execution_count": 23,
      "outputs": []
    }
  ]
}